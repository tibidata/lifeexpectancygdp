{
 "cells": [
  {
   "cell_type": "markdown",
   "metadata": {},
   "source": [
    "# U.S. Medical Insurance Costs"
   ]
  },
  {
   "cell_type": "code",
   "execution_count": 141,
   "metadata": {},
   "outputs": [],
   "source": [
    "#we are going to find out some important datas about the given csv document: what is the average age of the patients on the list,\n",
    "#what is the percentage of each age group (0-25,25-50,50+) and what are the average insurance costs for them\n",
    "#what are the averages of the given data of the view of age group, sex , location\n",
    "#what is the percentage of the smokers of the patients\n",
    "#what is the average age for  not having or having 1,2,3 children\n",
    "#where are the most and least patients from\n",
    "#what is the highest and lowest cost of the insurance\n",
    "#what is the average cost of insurance in the view of sex\n"
   ]
  },
  {
   "cell_type": "code",
   "execution_count": 142,
   "metadata": {},
   "outputs": [],
   "source": [
    "import csv\n",
    "import random\n",
    "from datetime import datetime"
   ]
  },
  {
   "cell_type": "code",
   "execution_count": 143,
   "metadata": {},
   "outputs": [],
   "source": [
    "insurance_datas = {}\n",
    "n = 0\n",
    "with open('insurance.csv') as insurance_csv:\n",
    "    insurance = csv.DictReader(insurance_csv)\n",
    "    for rows in insurance:\n",
    "        insurance_datas.update({n:rows})\n",
    "        n += 1\n"
   ]
  },
  {
   "cell_type": "code",
   "execution_count": 130,
   "metadata": {},
   "outputs": [],
   "source": [
    "num_list=[]\n",
    "num = range(10000,99999)\n",
    "for n in num:\n",
    "    num_list.append(n)"
   ]
  },
  {
   "cell_type": "code",
   "execution_count": 67,
   "metadata": {},
   "outputs": [],
   "source": [
    "#giving unique ID for each patient\n",
    "def unique_ID_constructor(lst):\n",
    "    num_id= random.choice(num_list)\n",
    "    num_list.remove(num_id)\n",
    "    for element in lst:\n",
    "        if lst[element]['region'] == 'southeast' and lst[element]['sex'] == 'female':\n",
    "            unique_ID = 'SE'+str(num_id)+'F'\n",
    "        elif lst[element]['region'] == 'southeast'and lst[element]['sex'] == 'male':\n",
    "            unique_ID = 'SE'+str(num_id)+'M'\n",
    "        elif lst[element]['region'] == 'soutwest' and lst[element]['sex'] == 'female':\n",
    "            unique_ID = 'SW'+str(num_id)+'F'\n",
    "        elif lst[element]['region'] == 'southwest'and lst[element]['sex'] == 'male':\n",
    "            unique_ID = 'SW'+str(num_id)+'M'\n",
    "        elif lst[element]['region'] == 'northheast' and lst[element]['sex'] == 'female':\n",
    "            unique_ID = 'SE'+str(num_id)+'F'\n",
    "        elif lst[element]['region'] == 'southeast'and lst[element]['sex'] == 'male':\n",
    "            unique_ID = 'SE'+str(num_id)+'M'\n",
    "        elif lst[element]['region'] == 'soutwest' and lst[element]['sex'] == 'female':\n",
    "            unique_ID = 'SW'+str(num_id)+'F'\n",
    "        elif lst[element]['region'] == 'southwest'and lst[element]['sex'] == 'male':\n",
    "            unique_ID = 'SW'+str(num_id)+'M'\n",
    "    return unique_ID"
   ]
  },
  {
   "cell_type": "code",
   "execution_count": 144,
   "metadata": {},
   "outputs": [],
   "source": [
    "#giving unique ID for each patient\n",
    "def unique_ID_constructor_new_patient(region,sex):\n",
    "    num_id= random.choice(num_list)\n",
    "    num_list.remove(num_id)\n",
    "    unique_ID = ''\n",
    "    if region == 'southeast' and sex == 'female':\n",
    "            unique_ID = 'SE'+str(num_id)+'F'\n",
    "    elif region == 'southeast'and sex == 'male':\n",
    "            unique_ID = 'SE'+str(num_id)+'M'\n",
    "    elif region == 'soutwest' and sex == 'female':\n",
    "            unique_ID = 'SW'+str(num_id)+'F'\n",
    "    elif region == 'southwest'and sex == 'male':\n",
    "            unique_ID = 'SW'+str(num_id)+'M'\n",
    "    elif region == 'northeast' and sex == 'female':\n",
    "            unique_ID = 'SE'+str(num_id)+'F'\n",
    "    elif region == 'southeast'and sex == 'male':\n",
    "            unique_ID = 'SE'+str(num_id)+'M'\n",
    "    elif region == 'soutwest' and sex == 'female':\n",
    "            unique_ID = 'SW'+str(num_id)+'F'\n",
    "    elif region == 'southwest'and sex == 'male':\n",
    "            unique_ID = 'SW'+str(num_id)+'M'\n",
    "    return unique_ID"
   ]
  },
  {
   "cell_type": "code",
   "execution_count": 137,
   "metadata": {},
   "outputs": [
    {
     "name": "stdout",
     "output_type": "stream",
     "text": [
      "SE80605M\n"
     ]
    }
   ],
   "source": [
    "print(unique_ID_constructor_new_patient('southeast','male'))"
   ]
  },
  {
   "cell_type": "code",
   "execution_count": 151,
   "metadata": {},
   "outputs": [],
   "source": [
    "def adding_new_patient(age,sex,bmi,number_of_children,smoker,region,insurance_cost,):\n",
    "    patient_sex = sex\n",
    "    patient_region = region\n",
    "    unique_ID = unique_ID_constructor_new_patient(patient_sex,patient_region)\n",
    "    print(unique_ID)\n",
    "    date_today = ''\n",
    "    date_today = datetime.now()\n",
    "    new_patient = {}\n",
    "    new_patient[unique_ID] = {'ID':unique_ID,'AGE':age, 'SEX':sex,'BMI':bmi, 'NUMBER OF CHILDREN':number_of_children, 'SMOKER':smoker, 'REGION':region, 'INSURANCE COST':insurance_cost, 'DATE OF ADDING':date_today}\n",
    "    new_dict.update(new_patient)\n",
    "    with open('patients.csv', 'a') as patients_csv:\n",
    "        fieldnames = [ 'ID', 'AGE', 'SEX', 'BMI', 'NUMBER OF CHILDREN', 'SMOKER', 'REGION', 'INSURANCE COST', 'DATE OF ADDING']\n",
    "        writer = csv.DictWriter(patients_csv, fieldnames=fieldnames)\n",
    "        for element in new_patient:\n",
    "            writer.writerow(new_patient[element])"
   ]
  },
  {
   "cell_type": "code",
   "execution_count": 82,
   "metadata": {},
   "outputs": [],
   "source": [
    "#Converting old dictionary to a new dictionary\n",
    "def dict_converter(lst):\n",
    "    new_dict={}\n",
    "    for element in lst:\n",
    "        id_key = unique_ID_constructor(lst)\n",
    "        new_dict.update({unique_ID_constructor(lst):{'ID':unique_ID_constructor(lst),'AGE':lst[element]['age'], 'SEX':lst[element]['sex'], 'BMI':lst[element]['bmi'], 'NUMBER OF CHILDREN':lst[element]['children'], 'SMOKER':lst[element]['smoker'],'REGION':lst[element]['region'], 'INSURANCE COST':lst[element]['charges'],'DATE OF ADDING':'2020.10.31' }})\n",
    "    return new_dict "
   ]
  },
  {
   "cell_type": "code",
   "execution_count": 83,
   "metadata": {},
   "outputs": [],
   "source": [
    "#Don't run this unlees you want to generate the ID codes all over again \n",
    "new_dict = dict_converter(insurance_datas)\n"
   ]
  },
  {
   "cell_type": "code",
   "execution_count": 84,
   "metadata": {},
   "outputs": [],
   "source": [
    "with open('patients.csv','w') as patient_csv:\n",
    "    fieldnames = [ 'ID', 'AGE', 'SEX', 'BMI', 'NUMBER OF CHILDREN', 'SMOKER', 'REGION', 'INSURANCE COST', 'DATE OF ADDING']\n",
    "    writer = csv.DictWriter(patient_csv, fieldnames=fieldnames)\n",
    "    writer.writeheader()\n",
    "    for element in new_dict:\n",
    "        writer.writerow(new_dict[element])\n",
    "    "
   ]
  },
  {
   "cell_type": "code",
   "execution_count": 152,
   "metadata": {},
   "outputs": [],
   "source": [
    "adding_new_patient(24,'male',18.0, 0,'no','northwest',1000)"
   ]
  },
  {
   "cell_type": "code",
   "execution_count": 74,
   "metadata": {},
   "outputs": [],
   "source": [
    "#What is the percenatage of the female and male patients?\n",
    "def finding_sex_percent(lst):\n",
    "    \n",
    "    male = 0\n",
    "    female = 0\n",
    "    for data in lst:\n",
    "        if lst[data]['SEX'] == 'male':\n",
    "            male += 1\n",
    "        elif lst[data]['SEX'] == 'female':\n",
    "            female += 1\n",
    "    percent_female = (female / len(lst)) * 100\n",
    "    percent_male = 100 - percent_female\n",
    "    print('The percentage of the females in the list is '+str(percent_female)[0:6]+'% and the percentage of the males is '+str(percent_male)[0:6]+'%.')\n",
    "        "
   ]
  },
  {
   "cell_type": "code",
   "execution_count": 76,
   "metadata": {},
   "outputs": [],
   "source": [
    "#What is the average age of the patients\n",
    "def finding_average_age(lst):\n",
    "    overall_age = 0\n",
    "    for data in lst:\n",
    "        overall_age += int(lst[data]['AGE'])\n",
    "    average_age = overall_age / len(lst)\n",
    "    print('The average age for the patients is {ages} ages.'.format(ages=str(average_age)[0:5])) "
   ]
  },
  {
   "cell_type": "code",
   "execution_count": 135,
   "metadata": {},
   "outputs": [],
   "source": [
    "#What is the percentage of the different age groups (0-25,25-50,50+) and what is the average cost,sex,number of children,location\n",
    "patients_0_25 = {}\n",
    "patients_25_50 = {}\n",
    "patients_50 = {}\n",
    "\n",
    "def sorted_by_age_group(lst):  \n",
    "    cost_0_25 = 0\n",
    "    cost_25_50 = 0\n",
    "    cost_50 = 0\n",
    "    female_0_25 = 0\n",
    "    male_0_25 = 0\n",
    "    female_25_50 = 0\n",
    "    male_25_50 = 0\n",
    "    female_50 = 0\n",
    "    male_50 = 0\n",
    "    children_0_25 = 0\n",
    "    children_25_50 = 0\n",
    "    children_50 = 0\n",
    "\n",
    "    for data in lst:\n",
    "        if int(lst[data]['AGE']) <= 25:\n",
    "            patients_0_25.update({data:lst[data]})\n",
    "            cost_0_25 += float(lst[data]['charges'])\n",
    "            if lst[data]['SEX'] == 'female':\n",
    "                female_0_25 += 1\n",
    "            elif lst[data]['SEX'] == 'male':\n",
    "                male_0_25 += 1\n",
    "                \n",
    "            if int(lst[data]['NUMBER OF CHILDREN']) > 0:\n",
    "                children_0_25 += 1\n",
    "        elif int(lst[data]['AGE']) > 25 and int(lst[data]['age']) < 50:\n",
    "            cost_25_50 += float(lst[data]['INSURANCE COST'])\n",
    "            patients_25_50.update({data:lst[data]})\n",
    "            if lst[data]['SEX'] == 'female':\n",
    "                female_25_50 += 1\n",
    "            elif lst[data]['SEX'] == 'male':\n",
    "                male_25_50 += 1\n",
    "                \n",
    "            if int(lst[data]['NUMBER OF CHILDREN']) > 0:\n",
    "                children_25_50 += 1\n",
    "            \n",
    "        elif int(lst[data]['AGE']) >= 50:\n",
    "            cost_50 += float(lst[data]['INSURANCE COST'])\n",
    "            patients_50.update({data:lst[data]})\n",
    "            if lst[data]['SEX'] == 'female':\n",
    "                female_50 += 1\n",
    "            elif lst[data]['SEX'] == 'male':\n",
    "                male_50 += 1\n",
    "                \n",
    "            if int(lst[data]['NUMBER OF CHILDREN']) > 0:\n",
    "                children_50 += 1\n",
    "                \n",
    "    size_of_0_25 = len(patients_0_25) / len(lst) *100\n",
    "    size_of_25_50 = len(patients_25_50) / len(lst) *100\n",
    "    size_of_50 = 100 - size_of_0_25 - size_of_25_50\n",
    "    average_cost_0_25 = cost_0_25 / len(lst)\n",
    "    average_cost_25_50 = cost_25_50 / len(lst)\n",
    "    average_cost_50 = cost_50/len(lst)\n",
    "    average_female_0_25 = female_0_25 / len(patients_0_25) *100\n",
    "    average_male_0_25 = male_0_25 / len(patients_0_25) *100\n",
    "    average_female_25_50 = female_25_50 / len(patients_25_50) *100\n",
    "    average_male_25_50 = male_25_50 / len(patients_25_50)*100\n",
    "    average_female_50 = female_50 / len(patients_50)*100\n",
    "    average_male_50 = male_50 / len(patients_50)*100\n",
    "    average_child_0_25 = children_0_25 / len(patients_0_25)\n",
    "    average_child_25_50 = children_25_50 / len(patients_25_50)\n",
    "    average_child_50 = children_50 / len(patients_50) \n",
    "    \n",
    "    print('The percent of the 0-25 age group is {age1}%, of the 25-50 age group is {age2}% and of the 50+ age group is {age3}%.'.format(age1=str(size_of_0_25)[0:6],age2=str(size_of_25_50)[0:6], age3=str(size_of_50)[0:6]))\n",
    "    print('\\n')\n",
    "    print('The average cost for the 0-25 age group is {cost1} dollars for the 25-50 age group is {cost2} dollars and for the 50+ age group is {cost3} dollars.'.format(cost1=str(average_cost_0_25)[0:6], cost2=str(average_cost_25_50)[0:6], cost3=str(average_cost_50)[0:6]))\n",
    "    print('\\n')\n",
    "    print('{a}% of the 0-25 age group is female and {b}% of the age group is male.'.format(a=str(average_female_0_25)[0:6], b=str(average_male_0_25)[0:6]))\n",
    "    print('{a}% of the 25-50 age group is female and {b}% of the age group is male.'.format(a=str(average_female_25_50)[0:6], b=str(average_male_25_50)[0:6]))\n",
    "    print('{a}% of the 50+ age group is female and {b}% of the age group is male.'.format(a=str(average_female_50)[0:6], b=str(average_male_50)[0:6]))\n",
    "    print('\\n')\n",
    "    print('The average children for the 0-25 age group is {a}'.format(a=str(average_child_0_25)[0:6]))\n",
    "    print('The average children for the 25-50 age group is {a}'.format(a=str(average_child_25_50)[0:6]))\n",
    "    print('The average children for the 50+ age group is {a}'.format(a=str(average_child_50)[0:6]))"
   ]
  },
  {
   "cell_type": "code",
   "execution_count": 176,
   "metadata": {},
   "outputs": [],
   "source": [
    "#Checking where the most patients are coming from\n",
    "\n",
    "def location_check(lst):\n",
    "    places = []\n",
    "    region_count = {}\n",
    "    index = 0\n",
    "    most_populated = {}\n",
    "    for data in lst:\n",
    "        places.append(lst[data]['REGION'])\n",
    "    for element in places:\n",
    "        if element not in region_count:\n",
    "            region_count[element] = 1\n",
    "        elif element in region_count:\n",
    "            region_count[element] += 1\n",
    "    for data in region_count:\n",
    "        if region_count[data] > index:\n",
    "            index = region_count[data]\n",
    "    for data in region_count:\n",
    "        if region_count[data] == index:\n",
    "            most_populated[data] = region_count[data]\n",
    "            most_populated_region = data\n",
    "            most_population = region_count[data]\n",
    "            \n",
    "       \n",
    "    return 'The most populated region is {a} with a patients number of {b}.'.format(a=most_populated_region, b=most_population)\n",
    "            \n",
    "\n",
    "        \n",
    "        "
   ]
  }
 ],
 "metadata": {
  "kernelspec": {
   "display_name": "Python 3",
   "language": "python",
   "name": "python3"
  },
  "language_info": {
   "codemirror_mode": {
    "name": "ipython",
    "version": 3
   },
   "file_extension": ".py",
   "mimetype": "text/x-python",
   "name": "python",
   "nbconvert_exporter": "python",
   "pygments_lexer": "ipython3",
   "version": "3.8.3"
  }
 },
 "nbformat": 4,
 "nbformat_minor": 4
}
